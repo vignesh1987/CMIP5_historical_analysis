{
 "cells": [
  {
   "cell_type": "markdown",
   "id": "national-shipping",
   "metadata": {},
   "source": [
    "## Analysis of CMIP5-historical dataset on Temperature and Precipitation\n",
    "#### Prepared by Vignesh Sridharan "
   ]
  },
  {
   "cell_type": "code",
   "execution_count": null,
   "id": "criminal-element",
   "metadata": {},
   "outputs": [],
   "source": [
    "#libraries for Climate data analysis\n",
    "import xarray as xr\n",
    "import matplotlib.pyplot as plt\n",
    "import pandas as pd\n",
    "import matplotlib.colors as colors\n",
    "import matplotlib.cm as cm\n",
    "import cartopy.crs as ccrs\n",
    "import ipywidgets as widgets\n",
    "import cdsapi\n",
    "import pickle\n",
    "%matplotlib inline"
   ]
  },
  {
   "cell_type": "code",
   "execution_count": null,
   "id": "numerous-nirvana",
   "metadata": {},
   "outputs": [],
   "source": [
    "# Downloading the CMIP5-historical Mean precipitation flux and Surface-air temperature (2m) between 1850 and 2005 \n",
    "# commented out as the data is downloaded and used from local repository\n",
    "'''\n",
    "import cdsapi\n",
    "c = cdsapi.Client()\n",
    "c.retrieve(\n",
    "    'projections-cmip5-monthly-single-levels',\n",
    "    {\n",
    "        'experiment': 'historical',\n",
    "        'variable': [\n",
    "            '2m_temperature', 'mean_precipitation_flux',\n",
    "        ],\n",
    "        'model': 'noresm1_m',\n",
    "        'ensemble_member': 'r1i1p1',\n",
    "        'period': '185001-200512',\n",
    "        'format': 'zip',\n",
    "    },\n",
    "    'download.zip')\n",
    "'''"
   ]
  },
  {
   "cell_type": "code",
   "execution_count": null,
   "id": "unnecessary-entrance",
   "metadata": {
    "scrolled": false
   },
   "outputs": [],
   "source": [
    "#Loading the *.nc file on historical precipitation and temperature between 1850 and 2005\n",
    "#The filesize was large, hence the pickled-format of the files are used\n",
    "ds1 = pickle.load( open( \"./pr_mon_NorESM_historical_1850-2005.p\", \"rb\" ) )# Precipitation\n",
    "ds2 = pickle.load( open( \"./tas_mon_NorESM_historical_1850-2005.p\", \"rb\" ) )# Temperature\n",
    "#Loading the *csv file with the 'lat' and 'lon' coordinates for all the capital cities in the world  \n",
    "coord=pd.read_csv('./latlon.csv')"
   ]
  },
  {
   "cell_type": "markdown",
   "id": "environmental-longitude",
   "metadata": {},
   "source": [
    "#### Unit adjustments for Temperature and Precipitation"
   ]
  },
  {
   "cell_type": "code",
   "execution_count": null,
   "id": "atomic-summary",
   "metadata": {},
   "outputs": [],
   "source": [
    "#converting the pecipitation data from SI untis to mm/month\n",
    "ds1.pr.data = ds1.pr.data * 86400*30\n",
    "ds1.pr.attrs['units'] = 'mm/month' \n",
    "#converting the Surface air temperature data from SI untis to deg Celcius\n",
    "ds2.tas.data = ds2.tas.data-273.15\n",
    "ds2.tas.attrs['units'] = 'deg C' "
   ]
  },
  {
   "cell_type": "code",
   "execution_count": null,
   "id": "sophisticated-depression",
   "metadata": {},
   "outputs": [],
   "source": [
    "#Simple global plot to analyse the historical precipitation and temperature patterns \n",
    "def plot_global (timestamp):\n",
    "    time=str(timestamp)# string conversation for use in plot title\n",
    "    time=str(time.split(' ')[0])    \n",
    "    f,((ax1, ax2), (ax3, ax4)) = plt.subplots(2, 2, figsize=(24, 12), subplot_kw={'projection': ccrs.PlateCarree()})\n",
    "    ds1['pr'].sel(time = timestamp).plot(ax=ax1,cmap='rainbow')\n",
    "    ds1.pr.mean(dim='time').plot(ax=ax2, cmap='rainbow',cbar_kwargs={'label': 'Precipitation [mm/month]'})\n",
    "    ds2['tas'].sel(time = timestamp).plot(ax=ax3,cmap='rainbow',vmin=-80,vmax= 60)\n",
    "    ds2.tas.mean(dim='time').plot(ax=ax4,cmap='rainbow',vmin=-80,vmax= 60,cbar_kwargs={'label': 'Near-surface Air temperature \\n [deg C]'},)\n",
    "    ax1.set_title('Average monthly Precipitation on chosen time stamp' +'_'+ time,fontsize=15)\n",
    "    ax2.set_title('Average monthly precipitation for period (1850-2005)',fontsize=15)\n",
    "    ax3.set_title('Average monthly temperature on chosen time stamp' +'_'+ time,fontsize=15)\n",
    "    ax4.set_title('Average monthly temperature for period (1850-2005)',fontsize=15)\n",
    "    ax1.coastlines()\n",
    "    ax2.coastlines()\n",
    "    ax3.coastlines()\n",
    "    ax4.coastlines()\n",
    "    f.suptitle('Global variations in temperature and precipitation', fontsize=30,y=1.01)\n",
    "\n",
    "#Simple line plot to analyse the historical precipitation and temperature patterns in all the capital cities of the world \n",
    "def plot_country_cap (country):\n",
    "    capital=coord[coord['Country Name']==country]['Capital Name'].copy()\n",
    "    capital=capital.to_string(index=False)\n",
    "    cap_lat=coord[coord['Country Name']==country]['Capital Latitude'].tolist()\n",
    "    cap_lon=coord[coord['Country Name']==country]['Capital Longitude'].tolist()\n",
    "    f,axes = plt.subplots(ncols=2,figsize=(10,5))\n",
    "    mean_global_tas=ds2.tas.median(dim=['lat', 'lon'])\n",
    "    mean_global_tas=mean_global_tas.resample(time='1Y').mean()\n",
    "    con_cap_tas= ds2.sel(lat=cap_lat, lon=cap_lon, method='nearest')\n",
    "    con_cap_tas=con_cap_tas.resample(time='1Y').mean()\n",
    "    con_cap_tas.tas.plot(ax=axes[0],label=str(capital))\n",
    "    mean_global_tas.plot(ax=axes[0],label= 'global mean')\n",
    "    axes[0].set_title('Comparison of Surface air temperature',fontsize=14)\n",
    "    axes[0].set_ylabel('Yearly average \\n Surface air temperature (deg C)',fontsize=11)\n",
    "    mean_global_pr=ds1.pr.mean(dim=['lat', 'lon'])\n",
    "    mean_global_pr=mean_global_pr.resample(time='1Y').sum()\n",
    "    con_cap_pr= ds1.sel(lat=cap_lat, lon=cap_lon, method='nearest')\n",
    "    con_cap_pr=con_cap_pr.resample(time='1Y').sum()\n",
    "    con_cap_pr.pr.plot(ax=axes[1],label=str(capital))\n",
    "    mean_global_pr.plot(ax=axes[1],label='global mean')\n",
    "    axes[1].set_title('Comparison of Precipitation',fontsize=14)\n",
    "    axes[1].set_ylabel('Yearly total Precipitation (mm)',fontsize=11)\n",
    "    axes[0].legend(loc=0)\n",
    "    axes[1].legend(loc=0)\n",
    "    plt.tight_layout()\n",
    "    f.suptitle('Variations in temperature and precipitation (' + capital + ' vs Global-mean)', fontsize=30,y=1.18)   \n"
   ]
  },
  {
   "cell_type": "markdown",
   "id": "sexual-cabin",
   "metadata": {},
   "source": [
    "### The following widgets examine the temperature and precipitation variations across the globe\n",
    "\n",
    "#### The comparison is done between monthly (historical) and averaged monthly data for the period: 1850-2005"
   ]
  },
  {
   "cell_type": "code",
   "execution_count": null,
   "id": "accessory-license",
   "metadata": {},
   "outputs": [],
   "source": [
    "#simple widget to analyse the global variation in tenmperature and precipitation to compare with the time period pm\n",
    "select_timestamp = widgets.Dropdown(\n",
    "    options=ds1.time.values.tolist(),\n",
    "    description='Timestamp:',\n",
    "    disabled=False\n",
    "     )\n",
    "print ('Choose the time stamp (between 1850-2005) to analyse')\n",
    "interact_plot = widgets.interact(plot_global, timestamp = select_timestamp)"
   ]
  },
  {
   "cell_type": "markdown",
   "id": "compressed-mystery",
   "metadata": {},
   "source": [
    "### The following widget examines the temperature and precipitation variations across capital cities of the world\n",
    "\n",
    "#### The comparison is done between the observations for the capital city and the global-mean"
   ]
  },
  {
   "cell_type": "code",
   "execution_count": null,
   "id": "portuguese-assets",
   "metadata": {},
   "outputs": [],
   "source": [
    "# Widget to choose the country (capital)\n",
    "select_country = widgets.Dropdown(\n",
    "    options=coord['Country Name'].to_list(),\n",
    "    description='Country:',\n",
    "    disabled=False\n",
    "    )\n",
    "print ('Choose a country (capital) to analyse')\n",
    "interact_plot = widgets.interact(plot_country_cap, country=select_country)"
   ]
  }
 ],
 "metadata": {
  "kernelspec": {
   "display_name": "Python 3",
   "language": "python",
   "name": "python3"
  },
  "language_info": {
   "codemirror_mode": {
    "name": "ipython",
    "version": 3
   },
   "file_extension": ".py",
   "mimetype": "text/x-python",
   "name": "python",
   "nbconvert_exporter": "python",
   "pygments_lexer": "ipython3",
   "version": "3.8.6"
  }
 },
 "nbformat": 4,
 "nbformat_minor": 5
}
